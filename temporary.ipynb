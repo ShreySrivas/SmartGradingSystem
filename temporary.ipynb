{
 "cells": [
  {
   "cell_type": "code",
   "execution_count": 10,
   "metadata": {},
   "outputs": [
    {
     "name": "stdout",
     "output_type": "stream",
     "text": [
      "[Match({'ruleId': 'BASE_FORM', 'message': 'Possible agreement error — use the base form here.', 'replacements': ['have'], 'offsetInContext': 43, 'context': '...dia is ruining the minds of youth. They has exacerbated the decline of attention sp...', 'offset': 49, 'errorLength': 3, 'category': 'GRAMMAR', 'ruleIssueType': 'grammar', 'sentence': 'They has exacerbated the decline of attention span observe in adults.'})]\n",
      "No. of mistakes found in document is  3\n",
      "\n"
     ]
    }
   ],
   "source": [
    "# importing the package  \n",
    "import language_tool_python  \n",
    "  \n",
    "# using the tool  \n",
    "my_tool = language_tool_python.LanguageTool('en-US')  \n",
    "i = 0\n",
    " \n",
    "# Path of file which needs to be checked\n",
    "fin = \"Social media is ruining the minds of youth. They has exacerbated the decline of attention span observe in adults. There am instances where adults fall into depression.\"\n",
    "\n",
    "# getting the matches  \n",
    "my_matches = my_tool.check(fin)  \n",
    "# printing matches \n",
    "print(my_matches)\n",
    "\n",
    "\n",
    "for line in fin:\n",
    "    matches = my_tool.check(line)\n",
    "    i = i + len(matches)    \n",
    "    pass\n",
    " \n",
    "# prints total mistakes which are found\n",
    "# from the document\n",
    "print(\"No. of mistakes found in document is \", i)\n",
    "print()\n"
   ]
  }
 ],
 "metadata": {
  "kernelspec": {
   "display_name": "env1",
   "language": "python",
   "name": "python3"
  },
  "language_info": {
   "codemirror_mode": {
    "name": "ipython",
    "version": 3
   },
   "file_extension": ".py",
   "mimetype": "text/x-python",
   "name": "python",
   "nbconvert_exporter": "python",
   "pygments_lexer": "ipython3",
   "version": "3.7.11"
  },
  "orig_nbformat": 4
 },
 "nbformat": 4,
 "nbformat_minor": 2
}
